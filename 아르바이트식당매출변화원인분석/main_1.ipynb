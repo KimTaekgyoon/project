{
  "cells": [
    {
      "cell_type": "markdown",
      "metadata": {
        "id": "OMnqkHSc62LQ"
      },
      "source": [
        "# 데이터 불러오기"
      ]
    },
    {
      "cell_type": "code",
      "execution_count": null,
      "metadata": {
        "id": "Zxcdhh-s2KaB"
      },
      "outputs": [],
      "source": [
        "!sudo apt-get install -y fonts-nanum\n",
        "!sudo fc-cache -fv\n",
        "!rm ~/.cache/matplotlib -rf"
      ]
    },
    {
      "cell_type": "code",
      "execution_count": null,
      "metadata": {
        "id": "xilTZQpuZfop"
      },
      "outputs": [],
      "source": [
        "import pandas as pd\n",
        "import matplotlib.pyplot as plt\n",
        "import seaborn as sns\n",
        "\n",
        "# matplotlib에 나눔고딕 폰트 적용\n",
        "plt.rc('font', family='NanumBarunGothic')\n",
        "plt.rcParams['axes.unicode_minus'] = False"
      ]
    },
    {
      "cell_type": "code",
      "execution_count": null,
      "metadata": {
        "id": "yQnSXq_Ia4oH"
      },
      "outputs": [],
      "source": [
        "pd.set_option('display.max_rows', None)"
      ]
    },
    {
      "cell_type": "markdown",
      "metadata": {
        "id": "FhHLFpwL6w-i"
      },
      "source": [
        "# 데이터 전처리"
      ]
    },
    {
      "cell_type": "code",
      "execution_count": null,
      "metadata": {
        "id": "nikARMMOoXMu"
      },
      "outputs": [],
      "source": [
        "df = pd.read_csv('/content/naver_reviews_2.csv')"
      ]
    },
    {
      "cell_type": "code",
      "execution_count": null,
      "metadata": {
        "id": "yXhmqVyEof8o"
      },
      "outputs": [],
      "source": [
        "df_copy = df.copy()"
      ]
    },
    {
      "cell_type": "code",
      "execution_count": null,
      "metadata": {
        "id": "Dq96UkuyZVqe"
      },
      "outputs": [],
      "source": [
        "# 중복 제거 (유저+날짜+내용이 같으면 중복)\n",
        "df_copy = df_copy.drop_duplicates(subset=[\"user_id\", \"date\", \"review_text\"])"
      ]
    },
    {
      "cell_type": "code",
      "execution_count": null,
      "metadata": {
        "id": "O4xBonCMZW5j"
      },
      "outputs": [],
      "source": [
        "# 방문횟수 숫자만 추출\n",
        "df_copy[\"visit_count\"] = df_copy[\"visit_count\"].str.extract(r\"(\\d+)\").astype(int)"
      ]
    },
    {
      "cell_type": "code",
      "execution_count": null,
      "metadata": {
        "id": "AfSeJx2DZYDE"
      },
      "outputs": [],
      "source": [
        "# 날짜 형식으로 변환\n",
        "df_copy[\"date\"] = pd.to_datetime(df_copy[\"date\"], errors=\"coerce\")"
      ]
    },
    {
      "cell_type": "code",
      "execution_count": null,
      "metadata": {
        "id": "iPR0gmzn4-2v"
      },
      "outputs": [],
      "source": [
        "# visit_tags에 다른 종류의 항목들이 한번에 들어가있어서 새로운 열을 만들어서 이를 나눠줌.\n",
        "# 쉼표로 최대 5개 항목까지 분리 (부족하면 NaN으로 자동 채워짐)\n",
        "split_cols = df_copy['visit_tags'].str.split(',', n=4, expand=True)\n",
        "\n",
        "# 앞뒤 공백 제거\n",
        "split_cols = split_cols.apply(lambda col: col.str.strip())\n",
        "\n",
        "# 열 이름 지정\n",
        "split_cols.columns = ['visit_when', 'reservation', 'wait', 'visit_type', 'visit_who']\n",
        "\n",
        "# 원본 데이터프레임에 병합\n",
        "df_copy = pd.concat([df_copy, split_cols], axis=1)\n"
      ]
    },
    {
      "cell_type": "code",
      "execution_count": null,
      "metadata": {
        "id": "rAQb2e9r6j_a"
      },
      "outputs": [],
      "source": [
        "df_copy = df_copy.drop(columns=['visit_tags'])"
      ]
    },
    {
      "cell_type": "code",
      "execution_count": null,
      "metadata": {
        "id": "EQ9y1yyI_-_b"
      },
      "outputs": [],
      "source": [
        "#visit_tag를 나누는 과정에서 몇몇 열들이 잘못 들어감 => reversion 하나만 없으니까 그냥 가장 많은 예약 없이 이용으로 대체\n",
        "#58행의 값을 대체\n",
        "df_copy.at[58, 'reservation'] = '예약 없이 이용'\n",
        "df_copy.at[58, 'wait'] = '바로 입장'\n",
        "df_copy.at[58, 'visit_type'] = '데이트'\n",
        "df_copy.at[58, 'visit_who'] = '연인・배우자'\n",
        "\n",
        "#125행의 값을 대체\n",
        "df_copy.at[125, 'reservation'] = '예약 없이 이용'\n",
        "df_copy.at[125, 'wait'] = '바로 입장'\n",
        "df_copy.at[125, 'visit_type'] = '친목'\n",
        "df_copy.at[125, 'visit_who'] = '연인・배우자'\n",
        "\n",
        "#133행의 값을 대체\n",
        "df_copy.at[133, 'reservation'] = '예약 없이 이용'\n",
        "df_copy.at[133, 'wait'] = '바로 입장'\n",
        "df_copy.at[133, 'visit_type'] = '일상'\n",
        "df_copy.at[133, 'visit_who'] = '아이'\n",
        "\n",
        "#148행의 값을 대체\n",
        "df_copy.at[148, 'reservation'] = '예약 없이 이용'\n",
        "df_copy.at[148, 'wait'] = '바로 입장'\n",
        "df_copy.at[148, 'visit_type'] = '일상'\n",
        "df_copy.at[148, 'visit_who'] = '아이'\n",
        "\n",
        "#251행의 값을 대체\n",
        "df_copy.at[251, 'reservation'] = '예약 없이 이용'\n",
        "df_copy.at[251, 'wait'] = '바로 입장'\n",
        "df_copy.at[251, 'visit_type'] = '데이트'\n",
        "df_copy.at[251, 'visit_who'] = '부모님'\n",
        "\n",
        "#288행의 값을 대체\n",
        "df_copy.at[288, 'reservation'] = '예약 없이 이용'\n",
        "df_copy.at[288, 'wait'] = '바로 입장'\n",
        "df_copy.at[288, 'visit_type'] = '친목'\n",
        "df_copy.at[288, 'visit_who'] = '친구'\n",
        "\n",
        "\n",
        "#298행의 값을 대체\n",
        "df_copy.at[298, 'reservation'] = '예약 없이 이용'\n",
        "df_copy.at[298, 'wait'] = '바로 입장'\n",
        "df_copy.at[298, 'visit_type'] = '일상'\n",
        "df_copy.at[298, 'visit_who'] = '아이'\n"
      ]
    },
    {
      "cell_type": "code",
      "execution_count": null,
      "metadata": {
        "id": "ybZlw3-AGqSG"
      },
      "outputs": [],
      "source": [
        "df_copy.at[11, 'visit_type'] = '일상'\n",
        "df_copy.at[11, 'visit_who'] = '혼자'\n",
        "\n",
        "df_copy.at[85, 'visit_type'] = '가족모임'\n",
        "df_copy.at[85, 'visit_who'] = '부모님'\n",
        "\n",
        "df_copy.at[109, 'visit_type'] = '회식'\n",
        "df_copy.at[109, 'visit_who'] = '지인・동료'\n",
        "\n",
        "df_copy.at[137, 'visit_type'] = '일상'\n",
        "df_copy.at[137, 'visit_who'] = '혼자'\n",
        "\n",
        "df_copy.at[178, 'visit_type'] = '가족모임'\n",
        "df_copy.at[178, 'visit_who'] = '부모님'\n",
        "\n",
        "df_copy.at[373, 'visit_who'] = '연인・배우자'\n",
        "\n",
        "df_copy.at[358, 'visit_who'] = '지인・동료'"
      ]
    },
    {
      "cell_type": "code",
      "execution_count": null,
      "metadata": {
        "id": "ibezhrMuIdC6"
      },
      "outputs": [],
      "source": [
        "# 찾고자 하는 문자열 리스트\n",
        "target_values = [\n",
        "    '가족모임',\n",
        "    '일상',\n",
        "    '가족모임,',\n",
        "    '나들이,',\n",
        "    '나들이, 여행, 일상,',\n",
        "    '일상, 기념일, 회식, 가족모임,'\n",
        "]\n",
        "\n",
        "# 해당 값이 포함된 행 필터링\n",
        "filtered_df = df_copy[df_copy['visit_who'].isin(target_values)]\n",
        "\n",
        "# 결과 출력\n",
        "filtered_df\n"
      ]
    },
    {
      "cell_type": "code",
      "execution_count": null,
      "metadata": {
        "id": "JFVUQbAZKvuV"
      },
      "outputs": [],
      "source": [
        "df_copy.loc[[2,19,107,174,211,264,311], 'visit_who'] = '연인・배우자'\n",
        "df_copy.loc[[35,226,241], 'visit_who'] = '연인'\n",
        "df_copy.loc[[134,203,213, 216], 'visit_who'] = '친구'\n",
        "df_copy.loc[[318], 'visit_who'] = '지인・동료'"
      ]
    },
    {
      "cell_type": "code",
      "execution_count": null,
      "metadata": {
        "id": "zZDf1l9sP9oa"
      },
      "outputs": [],
      "source": [
        "# 대상 인덱스 리스트\n",
        "target_indices = [4, 6, 8, 13, 18, 20, 22, 28, 30, 34, 39, 40, 41, 46, 47, 48, 54, 55, 57, 59, 63, 64, 65, 67, 70, 72, 75, 81, 82, 86, 88, 89, 99, 103, 104, 106, 108, 112, 117, 129, 132, 135, 138, 143, 147, 149, 151, 152, 154, 156, 157, 159, 160, 161, 163, 165, 168, 169, 170, 179, 186, 187, 190, 196, 197, 202, 205, 206, 212, 215, 222, 225, 230, 231, 233, 234, 238, 239, 245, 246, 247, 249, 253, 257, 259, 260, 265, 269, 270, 273, 274, 277, 278, 279, 282, 284, 286, 287, 290, 292, 295, 299, 300, 301, 304, 306, 313, 321, 325, 326, 327, 328, 329, 330, 332, 340, 341, 348, 350, 352, 356, 357, 359, 360]\n",
        "\n",
        "# 조건별 매핑 딕셔너리\n",
        "type_to_who = {\n",
        "    '일상': '연인・배우자',\n",
        "    '데이트': '연인',\n",
        "    '친목': '친구',\n",
        "    '회식': '지인・동료',\n",
        "    '나들이': '연인・배우자',\n",
        "    '가족모임': '부모님',\n",
        "    '비즈니스': '지인・동료'\n",
        "\n",
        "}\n",
        "\n",
        "# 적용\n",
        "for idx in target_indices:\n",
        "    visit_type = df_copy.at[idx, 'visit_type']\n",
        "    if pd.notna(visit_type) and visit_type in type_to_who:\n",
        "        df_copy.at[idx, 'visit_who'] = type_to_who[visit_type]\n"
      ]
    },
    {
      "cell_type": "code",
      "execution_count": null,
      "metadata": {
        "id": "jMgt0BoSRjjR"
      },
      "outputs": [],
      "source": [
        "# 대상 인덱스 리스트\n",
        "target_indices = [7, 31,60, 126, 139, 195, 235, 266]\n",
        "\n",
        "# 조건별 매핑 딕셔너리\n",
        "type_to_who = {\n",
        "    '데이트': '연인',\n",
        "    '친목': '친구'\n",
        "}\n",
        "\n",
        "# 적용\n",
        "for idx in target_indices:\n",
        "    visit_type = df_copy.at[idx, 'visit_type']\n",
        "    if pd.notna(visit_type) and visit_type in type_to_who:\n",
        "        df_copy.at[idx, 'visit_who'] = type_to_who[visit_type]\n"
      ]
    },
    {
      "cell_type": "code",
      "execution_count": null,
      "metadata": {
        "id": "qcjkimHWO_1Z"
      },
      "outputs": [],
      "source": [
        "# 조건: visit_type은 존재하고, visit_who는 NaN 또는 빈 문자열\n",
        "missing_who_idx = df_copy[\n",
        "    df_copy['visit_type'].notna() & ((df_copy['visit_who'].isna()) | (df_copy['visit_who'].str.strip() == ''))\n",
        "].index\n",
        "\n",
        "# 결과 출력\n",
        "print(\"해당 행 번호들:\", missing_who_idx.tolist())\n"
      ]
    },
    {
      "cell_type": "code",
      "execution_count": null,
      "metadata": {
        "id": "EX-v7VBATHhH"
      },
      "outputs": [],
      "source": [
        "df_copy.to_csv('df_after.csv', index=False, encoding='utf-8-sig')"
      ]
    },
    {
      "cell_type": "markdown",
      "metadata": {},
      "source": [
        "### 엑셀 내에서 매출 데이터와 df_after.csv를 통합하여 df_final.csv 생성"
      ]
    },
    {
      "cell_type": "code",
      "execution_count": null,
      "metadata": {
        "id": "tElssX92TvU3"
      },
      "outputs": [],
      "source": [
        "df_final = pd.read_csv('/content/df_final.csv')"
      ]
    },
    {
      "cell_type": "markdown",
      "metadata": {
        "id": "xZogIPh9-8hj"
      },
      "source": [
        "## 시간에 따른 매출 추이"
      ]
    },
    {
      "cell_type": "code",
      "execution_count": null,
      "metadata": {
        "id": "CHBXF332_Cp0"
      },
      "outputs": [],
      "source": [
        "# 날짜 형식 변환\n",
        "df = df_final.copy()\n",
        "df['date'] = pd.to_datetime(df['date'])\n",
        "\n",
        "# 날짜별 매출 합계 계산\n",
        "daily_sales = df.groupby('date')['sales'].sum().reset_index()\n",
        "\n",
        "# 시각화\n",
        "plt.figure(figsize=(12, 5))\n",
        "plt.plot(daily_sales['date'], daily_sales['sales'], color='mediumblue', linewidth=2)\n",
        "plt.title(\"2024.01 ~ 2025.04 매출 추이\", fontsize=14)\n",
        "plt.xlabel(\"날짜\")\n",
        "plt.ylabel(\"매출 (원)\")\n",
        "plt.grid(True)\n",
        "plt.tight_layout()\n",
        "plt.show()\n"
      ]
    },
    {
      "cell_type": "markdown",
      "metadata": {
        "id": "TI2pY2HZtd9y"
      },
      "source": [
        "## 키워드 분석"
      ]
    },
    {
      "cell_type": "code",
      "execution_count": null,
      "metadata": {
        "id": "Ri19005sVWhG"
      },
      "outputs": [],
      "source": [
        "import pandas as pd\n",
        "import re\n",
        "import matplotlib.pyplot as plt\n",
        "\n",
        "# 텍스트 전처리 함수 (한글만 남기기)\n",
        "def clean_text(text):\n",
        "    text = str(text)\n",
        "    text = re.sub(r'[^가-힣\\s]', '', text)\n",
        "    return text\n",
        "\n",
        "df_final['cleaned_review'] = df_final['review_text'].apply(clean_text)\n",
        "\n",
        "# -----------------------------\n",
        "# (1) '아이', '가족' 키워드 분석\n",
        "# -----------------------------\n",
        "baby_keywords = ['아이']\n",
        "\n",
        "df_baby = df_final[df_final['cleaned_review'].str.contains('|'.join(baby_keywords), na=False)]\n",
        "overall_sales = df_final['sales'].mean()\n",
        "\n",
        "baby_sales = df_baby['sales'].mean()\n",
        "\n",
        "print(\"\\n📍 [1] '아이' 키워드 분석 결과\")\n",
        "print(f\"'아이' 키워드 리뷰 평균 매출: {baby_sales:,.0f}원 (전체 평균 매출: {overall_sales:,.0f}원)\")\n",
        "\n",
        "# -----------------------------\n",
        "# (2) '혼밥', '가능' 키워드 분석\n",
        "# -----------------------------\n",
        "solo_keywords = ['혼밥']\n",
        "\n",
        "df_solo = df_final[df_final['cleaned_review'].str.contains('|'.join(solo_keywords), na=False)]\n",
        "\n",
        "solo_sales = df_solo['sales'].mean()\n",
        "\n",
        "print(\"\\n📍 [2] '혼밥' 키워드 분석 결과\")\n",
        "print(f\"'혼밥' 관련 리뷰 평균 매출: {solo_sales:,.0f}원 (전체 평균: {overall_sales:,.0f}원)\")\n",
        "\n",
        "# -----------------------------\n",
        "# (3) '찌개' vs '고기' 키워드 분석 (시간대 비교)\n",
        "# -----------------------------\n",
        "\n",
        "jjigae_keywords = ['김치찌개']\n",
        "meat_keywords = ['고기']\n",
        "\n",
        "df_jjigae = df_final[df_final['cleaned_review'].str.contains('|'.join(jjigae_keywords), na=False)]\n",
        "df_meat = df_final[df_final['cleaned_review'].str.contains('|'.join(meat_keywords), na=False)]\n",
        "\n",
        "jjigae_sales = df_jjigae['sales'].mean()\n",
        "meat_sales = df_meat['sales'].mean()\n",
        "\n",
        "print(\"\\n📍 [3] '찌개' vs '고기' 키워드 시간대 분석 결과\")\n",
        "print(f\"'찌개' 키워드 리뷰 평균 매출: {jjigae_sales:,.0f}원\")\n",
        "print(f\"'고기' 키워드 리뷰 평균 매출: {meat_sales:,.0f}원\")\n",
        "\n",
        "# -----------------------------\n",
        "# 추가 시각화 (선택)\n",
        "# -----------------------------\n",
        "# 키워드별 매출 비교\n",
        "labels = ['전체', '아이', '혼밥', '김치찌개', '고기']\n",
        "sales_values = [overall_sales, baby_sales, solo_sales, jjigae_sales, meat_sales]\n",
        "\n",
        "plt.figure(figsize=(10,6))\n",
        "plt.bar(labels, sales_values)\n",
        "plt.title('키워드별 평균 매출 비교')\n",
        "plt.ylabel('Average Sales (KRW)')\n",
        "plt.xlabel('Keyword Group')\n",
        "plt.tight_layout()\n",
        "plt.show()\n"
      ]
    },
    {
      "cell_type": "markdown",
      "metadata": {
        "id": "uZyI1HuwFy1S"
      },
      "source": [
        "## 리뷰 수와 매출 간의 상관관계 분석"
      ]
    },
    {
      "cell_type": "code",
      "execution_count": null,
      "metadata": {
        "id": "iTQbb-ciK9ga"
      },
      "outputs": [],
      "source": [
        "import pandas as pd\n",
        "from scipy.stats import pearsonr, spearmanr\n",
        "\n",
        "# 데이터 준비\n",
        "# df는 이미 존재한다고 가정 (df['review_text'], df['sales'] 컬럼 포함)\n",
        "\n",
        "# 1. 리뷰 수 존재 여부 컬럼 생성\n",
        "df['has_review'] = df['review_text'].notnull().astype(int)\n",
        "\n",
        "# 2. 날짜별 리뷰 수와 매출 합계 계산\n",
        "daily_summary = df.groupby('date').agg({\n",
        "    'has_review': 'sum',  # 날짜별 리뷰 수\n",
        "    'sales': 'sum'        # 날짜별 매출 합계\n",
        "}).rename(columns={'has_review': 'review_count'})\n",
        "\n",
        "# 3. 피어슨 상관계수 (선형 관계)\n",
        "pearson_corr, pearson_p = pearsonr(daily_summary['review_count'], daily_summary['sales'])\n",
        "\n",
        "# 4. 스피어만 상관계수 (순위 기반 비선형 관계)\n",
        "spearman_corr, spearman_p = spearmanr(daily_summary['review_count'], daily_summary['sales'])\n",
        "\n",
        "# 5. 결과 출력\n",
        "print(f\"✅ 피어슨 상관계수 (선형): {pearson_corr:.3f} (p-value: {pearson_p:.4f})\")\n",
        "print(f\"✅ 스피어만 상관계수 : {spearman_corr:.3f} (p-value: {spearman_p:.4f})\")\n"
      ]
    },
    {
      "cell_type": "code",
      "execution_count": null,
      "metadata": {
        "id": "0ErfhVkgF2uv"
      },
      "outputs": [],
      "source": [
        "import pandas as pd\n",
        "import matplotlib.pyplot as plt\n",
        "import seaborn as sns\n",
        "from sklearn.preprocessing import StandardScaler\n",
        "\n",
        "# 리뷰 수가 존재하는 날짜 계산\n",
        "df['has_review'] = df['review_text'].notnull().astype(int)\n",
        "\n",
        "# 날짜별 리뷰 수와 매출 합계\n",
        "daily_summary = df.groupby('date').agg({\n",
        "    'has_review': 'sum',\n",
        "    'sales': 'sum'\n",
        "}).rename(columns={'has_review': 'review_count'})\n",
        "\n",
        "# 매출 표준화 (평균 0, 표준편차 1)\n",
        "scaler = StandardScaler()\n",
        "daily_summary['sales_scaled'] = scaler.fit_transform(daily_summary[['sales']])\n",
        "\n",
        "# 리뷰 수가 0, 1, 2, 3, 4인 경우만 필터링\n",
        "filtered_summary = daily_summary[daily_summary['review_count'].isin([0, 1, 2, 3, 4])]\n",
        "\n",
        "# 시각화\n",
        "plt.figure(figsize=(8, 5))\n",
        "sns.scatterplot(\n",
        "    data=filtered_summary,\n",
        "    x='review_count',\n",
        "    y='sales_scaled',\n",
        "    color='mediumblue',  # 점 색깔 지정\n",
        "    marker='x'       # x 모양 마커로 변경\n",
        ")\n",
        "plt.title(\"리뷰 수 (0~4개) vs 일 별 매출 (표준화)\")\n",
        "plt.xlabel(\"리뷰 수\")\n",
        "plt.ylabel(\"표준화된 매출\")\n",
        "plt.grid(False)  # 그리드 제거\n",
        "plt.xticks([0, 1, 2, 3, 4])  # X축을 0~4로 고정\n",
        "plt.tight_layout()\n",
        "plt.show()\n"
      ]
    },
    {
      "cell_type": "code",
      "execution_count": null,
      "metadata": {
        "id": "Ddr9r36qPorB"
      },
      "outputs": [],
      "source": [
        "# visit_who 그룹 통합 매핑\n",
        "visit_who_map = {\n",
        "    '지인・동료, 아이': '아이',\n",
        "    '친구, 아이': '아이',\n",
        "    '연인・배우자, 아이': '아이',\n",
        "    '연인': '연인・배우자',\n",
        "    '연인・배우자, 지인・동료': '연인・배우자',\n",
        "    '연인・배우자, 부모님': '부모님',\n",
        "    '지인・동료': '친구',\n",
        "    '친구, 지인・동료': '친구'\n",
        "}\n",
        "\n",
        "# 새 변수로 저장 (기존값 유지 원할 경우)\n",
        "df_final['visit_who_cleaned'] = df_final['visit_who'].replace(visit_who_map)\n",
        "\n",
        "# 필요 없는 그룹 제거\n",
        "valid_groups = ['아이', '연인・배우자', '친구', '혼자', '부모님', '친척・형제']\n",
        "df_final = df_final[df_final['visit_who_cleaned'].isin(valid_groups)]\n"
      ]
    },
    {
      "cell_type": "markdown",
      "metadata": {
        "id": "e26sCty_t0xr"
      },
      "source": [
        "## 변수 별 매출에 영향을 미치는 영향 분석"
      ]
    },
    {
      "cell_type": "code",
      "execution_count": null,
      "metadata": {
        "id": "hkDkmqb3Imt7"
      },
      "outputs": [],
      "source": [
        "import pandas as pd\n",
        "import statsmodels.api as sm\n",
        "import patsy\n",
        "import matplotlib.pyplot as plt\n",
        "\n",
        "# 결측 제거\n",
        "df = df_final.dropna(subset=['sales', 'visit_who_cleaned'])\n",
        "\n",
        "# 변수명 교체\n",
        "full_formula = 'sales ~ C(visit_when) + C(weekday) + C(reservation) + C(wait) + C(visit_type) + C(visit_who_cleaned)'\n",
        "y_full, X_full = patsy.dmatrices(full_formula, data=df, return_type='dataframe')\n",
        "model_full = sm.OLS(y_full, X_full).fit()\n",
        "r2_full = model_full.rsquared\n",
        "\n",
        "# 분석 대상 변수군\n",
        "groups = ['visit_when', 'weekday', 'reservation', 'wait', 'visit_type', 'visit_who_cleaned']\n",
        "r2_drop = {}\n",
        "\n",
        "# 변수 제거 후 R² 비교\n",
        "for group in groups:\n",
        "    reduced_formula = 'sales ~ ' + ' + '.join([f'C({g})' for g in groups if g != group])\n",
        "    y_reduced, X_reduced = patsy.dmatrices(reduced_formula, data=df, return_type='dataframe')\n",
        "    model_reduced = sm.OLS(y_reduced, X_reduced).fit()\n",
        "    r2_drop[group] = r2_full - model_reduced.rsquared\n",
        "\n",
        "# 결과 시각화\n",
        "r2_df = pd.DataFrame({'변수': list(r2_drop.keys()), '설명력 감소(R²)': list(r2_drop.values())})\n",
        "r2_df = r2_df.sort_values('설명력 감소(R²)', ascending=True)\n",
        "\n",
        "plt.figure(figsize=(10, 6))\n",
        "bars = plt.barh(r2_df['변수'], r2_df['설명력 감소(R²)'], color='mediumblue')\n",
        "plt.title(\"변수 제거 시 매출 설명력 감소 (R² 기준)\", fontsize=14)\n",
        "plt.xlabel(\"R² 감소량 (매출 설명력 손실)\", fontsize=12)\n",
        "\n",
        "for bar in bars:\n",
        "    plt.text(bar.get_width() + 0.001,\n",
        "             bar.get_y() + bar.get_height()/2,\n",
        "             f\"{bar.get_width():.4f}\",\n",
        "             va='center', fontsize=10)\n",
        "\n",
        "plt.tight_layout()\n",
        "plt.show()\n"
      ]
    },
    {
      "cell_type": "markdown",
      "metadata": {
        "id": "fwS72FmWgdIm"
      },
      "source": [
        "## 고객 세분화를 위한 클러스터링"
      ]
    },
    {
      "cell_type": "code",
      "execution_count": null,
      "metadata": {
        "id": "gT1kQggqaSle"
      },
      "outputs": [],
      "source": [
        "import pandas as pd\n",
        "from sklearn.preprocessing import LabelEncoder, StandardScaler\n",
        "from sklearn.mixture import GaussianMixture\n",
        "from sklearn.decomposition import PCA\n",
        "import matplotlib.pyplot as plt\n",
        "\n",
        "# 1. 데이터 준비\n",
        "df['review_flag'] = df['review_text'].notnull().astype(int)\n",
        "daily_review = df.groupby('date')['review_flag'].sum().reset_index().rename(columns={'review_flag': 'review_count'})\n",
        "df = pd.merge(df, daily_review, on='date', how='left')\n",
        "\n",
        "df = df.dropna(subset=['sales', 'weekday','review_count'])\n",
        "cluster_df = df[['weekday', 'review_count', 'sales']].copy()\n",
        "\n",
        "# 인코딩\n",
        "le_weekday = LabelEncoder()\n",
        "cluster_df['weekday_encoded'] = le_weekday.fit_transform(cluster_df['weekday'])\n",
        "\n",
        "# sales 숫자형 변환\n",
        "cluster_df['sales'] = cluster_df['sales'].astype(str).str.replace(',', '').astype(float)\n",
        "\n",
        "# 피처 구성 및 스케일링\n",
        "features = cluster_df[['weekday_encoded', 'review_count', 'sales']]\n",
        "scaler = StandardScaler()\n",
        "scaled_features = scaler.fit_transform(features)\n",
        "\n",
        "# GMM 클러스터링\n",
        "gmm = GaussianMixture(n_components=4, random_state=42)\n",
        "cluster_df['gmm_cluster'] = gmm.fit_predict(scaled_features)\n",
        "\n",
        "# PCA 차원 축소\n",
        "pca = PCA(n_components=2)\n",
        "pca_result = pca.fit_transform(scaled_features)\n",
        "cluster_df['PCA1'] = pca_result[:, 0]\n",
        "cluster_df['PCA2'] = pca_result[:, 1]\n",
        "\n",
        "# 클러스터별 평균값 계산\n",
        "summary = cluster_df.groupby('gmm_cluster').agg({\n",
        "    'review_count': 'mean',\n",
        "    'sales': 'mean',\n",
        "    'weekday': lambda x: x.mode()[0],  # 최빈값\n",
        "    'PCA1': 'mean',\n",
        "    'PCA2': 'mean'\n",
        "}).reset_index()\n",
        "\n",
        "# 시각화\n",
        "plt.figure(figsize=(10, 7))\n",
        "scatter = plt.scatter(\n",
        "    cluster_df['PCA1'], cluster_df['PCA2'],\n",
        "    c=cluster_df['gmm_cluster'],\n",
        "    cmap='Set2', alpha=0.7\n",
        ")\n",
        "plt.title('GMM 클러스터링 결과 (PCA 2D)', fontsize=15)\n",
        "plt.xlabel('PCA1')\n",
        "plt.ylabel('PCA2')\n",
        "plt.grid(True)\n",
        "\n",
        "# 클러스터 중심에 평균 정보 라벨 표시\n",
        "for _, row in summary.iterrows():\n",
        "    label = f\"Cluster {int(row['gmm_cluster'])}\\n📅 {row['weekday']}\\n💬 {row['review_count']:.2f}건\\n💰 {int(row['sales']):,}원\"\n",
        "    plt.text(row['PCA1'], row['PCA2'], label,\n",
        "             fontsize=9, fontweight='bold', ha='center',\n",
        "             bbox=dict(boxstyle='round,pad=0.3', fc='white', ec='gray', alpha=0.9))\n",
        "\n",
        "plt.colorbar(scatter, label='GMM Cluster')\n",
        "plt.tight_layout()\n",
        "plt.show()\n"
      ]
    },
    {
      "cell_type": "code",
      "execution_count": null,
      "metadata": {
        "id": "3gUoxWEu-WW7"
      },
      "outputs": [],
      "source": [
        "# 클러스터별 평균값 계산\n",
        "summary = cluster_df.groupby('gmm_cluster').agg({\n",
        "    'review_count': 'mean',\n",
        "    'sales': 'mean',\n",
        "    'weekday': lambda x: x.mode()[0],  # 최빈값\n",
        "    'PCA1': 'mean',\n",
        "    'PCA2': 'mean'\n",
        "}).reset_index()\n",
        "\n",
        "# 전체 평균 매출 계산\n",
        "overall_avg_sales = cluster_df['sales'].mean()\n",
        "\n",
        "# 각 클러스터의 매출이 전체 평균 대비 몇 퍼센트 차이 나는지 계산\n",
        "summary['sales_diff_percent'] = ((summary['sales'] - overall_avg_sales) / overall_avg_sales) * 100\n",
        "\n",
        "# 시각화\n",
        "plt.figure(figsize=(10, 7))\n",
        "scatter = plt.scatter(\n",
        "    cluster_df['PCA1'], cluster_df['PCA2'],\n",
        "    c=cluster_df['gmm_cluster'],\n",
        "    cmap='Set2', alpha=0.7\n",
        ")\n",
        "plt.title('GMM 클러스터링 결과', fontsize=15)\n",
        "plt.xlabel('PCA1')\n",
        "plt.ylabel('PCA2')\n",
        "plt.grid(True)\n",
        "\n",
        "# 클러스터 중심에 평균 정보 라벨 표시 (매출 대비 퍼센트 차이 표시)\n",
        "for _, row in summary.iterrows():\n",
        "    diff = row['sales_diff_percent']\n",
        "    sign = \"+\" if diff >= 0 else \"-\"\n",
        "    label = f\"Cluster {int(row['gmm_cluster'])}\\n📅 {row['weekday']}\\n💬 {row['review_count']:.2f}건\\n📈 전체 평균 대비 {sign}{abs(diff):.1f}%\"\n",
        "    plt.text(row['PCA1'], row['PCA2'], label,\n",
        "             fontsize=9, fontweight='bold', ha='center',\n",
        "             bbox=dict(boxstyle='round,pad=0.3', fc='white', ec='gray', alpha=0.9))\n",
        "\n",
        "plt.colorbar(scatter, label='GMM Cluster')\n",
        "plt.tight_layout()\n",
        "plt.show()\n"
      ]
    },
    {
      "cell_type": "code",
      "execution_count": null,
      "metadata": {
        "id": "bKH8wsBE48kK"
      },
      "outputs": [],
      "source": [
        "import numpy as np\n",
        "\n",
        "# 클러스터 별 색상 수동 지정\n",
        "# 순서: 클러스터 0, 1, 2, 3\n",
        "cluster_colors = {\n",
        "    0: 'mediumaquamarine',  # 연한 붉은색\n",
        "    1: 'lightskyblue',\n",
        "    2: 'gold',\n",
        "    3: 'lightcoral'\n",
        "}\n",
        "\n",
        "# 각 데이터에 색상을 매핑\n",
        "cluster_df['color'] = cluster_df['gmm_cluster'].map(cluster_colors)\n",
        "\n",
        "# 시각화\n",
        "plt.figure(figsize=(10, 7))\n",
        "scatter = plt.scatter(\n",
        "    cluster_df['PCA1'], cluster_df['PCA2'],\n",
        "    c=cluster_df['color'],  # 직접 색상 지정\n",
        "    alpha=0.7\n",
        ")\n",
        "plt.title('GMM 클러스터링 결과', fontsize=15)\n",
        "plt.xlabel('PCA1')\n",
        "plt.ylabel('PCA2')\n",
        "plt.grid(True)\n",
        "\n",
        "# 클러스터 중심 라벨 (이전과 동일)\n",
        "for _, row in summary.iterrows():\n",
        "    diff = row['sales_diff_percent']\n",
        "    sign = \"+\" if diff >= 0 else \"-\"\n",
        "    label = f\"Cluster {int(row['gmm_cluster'])}\\n📅 {row['weekday']}\\n💬 {row['review_count']:.2f}건\\n📈 전체 평균 대비 {sign}{abs(diff):.1f}%\"\n",
        "    plt.text(row['PCA1'], row['PCA2'], label,\n",
        "             fontsize=9, fontweight='bold', ha='center',\n",
        "             bbox=dict(boxstyle='round,pad=0.3', fc='white', ec='gray', alpha=0.9))\n",
        "\n",
        "plt.colorbar(scatter, label='GMM Cluster')\n",
        "plt.tight_layout()\n",
        "plt.show()\n"
      ]
    },
    {
      "cell_type": "code",
      "execution_count": null,
      "metadata": {
        "id": "4NNAOEt-njkK"
      },
      "outputs": [],
      "source": [
        "# 클러스터별 수치형 변수 평균 계산\n",
        "cluster_summary = cluster_df.groupby('gmm_cluster')[['review_count', 'sales']].mean()\n",
        "\n",
        "# 클러스터별 대표 범주형 변수 (최빈값) 추출\n",
        "cluster_summary['weekday'] = cluster_df.groupby('gmm_cluster')['weekday'].agg(lambda x: x.mode()[0])\n",
        "\n",
        "# 클러스터별 인원 수 추가\n",
        "cluster_summary['count'] = cluster_df.groupby('gmm_cluster').size()\n",
        "\n",
        "# 컬럼 순서 정리\n",
        "cluster_summary = cluster_summary[['count', 'review_count', 'sales', 'weekday']]\n",
        "\n",
        "display(cluster_summary)\n"
      ]
    },
    {
      "cell_type": "markdown",
      "metadata": {
        "id": "DRWI6_QC88_9"
      },
      "source": [
        "## XGBoost를 성능 측정\n"
      ]
    },
    {
      "cell_type": "code",
      "execution_count": null,
      "metadata": {
        "id": "oZd6jhP-7vs8"
      },
      "outputs": [],
      "source": [
        "import pandas as pd\n",
        "import numpy as np\n",
        "from sklearn.preprocessing import LabelEncoder\n",
        "from sklearn.metrics import mean_squared_error, mean_absolute_error, r2_score\n",
        "from xgboost import XGBRegressor\n",
        "from sklearn.model_selection import train_test_split\n",
        "\n",
        "# 요일 인코딩\n",
        "le = LabelEncoder()\n",
        "df['weekday_encoded'] = le.fit_transform(df['weekday'])\n",
        "\n",
        "# 피처 및 타겟 지정\n",
        "X = df[['review_count', 'weekday_encoded']]\n",
        "y = df['sales']\n",
        "\n",
        "# 학습용 / 테스트용 데이터 분할\n",
        "X_train, X_test, y_train, y_test = train_test_split(X, y, test_size=0.2, random_state=42)\n",
        "\n",
        "# XGBoost 회귀 모델 학습\n",
        "model = XGBRegressor(random_state=42, n_estimators=100, learning_rate=0.1)\n",
        "model.fit(X_train, y_train)\n",
        "\n",
        "# 예측\n",
        "y_pred = model.predict(X_test)\n",
        "\n",
        "# 성능 평가\n",
        "r2 = r2_score(y_test, y_pred)\n",
        "rmse = np.sqrt(mean_squared_error(y_test, y_pred))\n",
        "mae = mean_absolute_error(y_test, y_pred)\n",
        "\n",
        "# 결과 출력\n",
        "print(\"📊 XGBoost 회귀 모델 성능\")\n",
        "print(f\"R² (결정계수): {r2:.3f}\")\n",
        "print(f\"RMSE (평균 제곱근 오차): {int(rmse):,}원\")\n",
        "print(f\"MAE (평균 절댓값 오차): {int(mae):,}원\")\n"
      ]
    },
    {
      "cell_type": "markdown",
      "metadata": {
        "id": "1OEqQKCS0eoY"
      },
      "source": [
        "## 리뷰 수 증대 → 매출 증가 시뮬레이션 코드"
      ]
    },
    {
      "cell_type": "code",
      "execution_count": null,
      "metadata": {
        "id": "NjiEF6eS8iH8"
      },
      "outputs": [],
      "source": [
        "# 현재 평균 입력값 사용\n",
        "X_mean = X.mean()\n",
        "X_base = X_mean.copy()\n",
        "X_plus = X_mean.copy()\n",
        "\n",
        "# 리뷰 수 1건 증가\n",
        "X_plus['review_count'] += 1\n",
        "\n",
        "# 입력값을 DataFrame으로 변환\n",
        "X_base_df = pd.DataFrame([X_base])\n",
        "X_plus_df = pd.DataFrame([X_plus])\n",
        "\n",
        "# 예측값 계산\n",
        "base_sales = model.predict(X_base_df)[0]\n",
        "plus_sales = model.predict(X_plus_df)[0]\n",
        "\n",
        "delta = plus_sales - base_sales\n",
        "\n",
        "print(f\"✅ 리뷰 수가 1건 증가하면 하루 매출은 약 {int(delta):,}원 증가할 것으로 예측됩니다.\")\n"
      ]
    },
    {
      "cell_type": "markdown",
      "metadata": {
        "id": "A8aUHkdQ0nRG"
      },
      "source": [
        "## 고매출 클러스터 유입 증가 시뮬레이션 예시"
      ]
    },
    {
      "cell_type": "code",
      "execution_count": null,
      "metadata": {
        "id": "U98Ay2iPM3Kb"
      },
      "outputs": [],
      "source": [
        "# 💡 Cluster 3 하루 평균 매출 시뮬레이션\n",
        "cluster_3 = cluster_df[cluster_df['gmm_cluster'] == 3].copy()\n",
        "cluster_3 = cluster_3.merge(df[['date', 'review_text']], left_index=True, right_index=True)\n",
        "cluster_3['date'] = pd.to_datetime(cluster_3['date'])\n",
        "\n",
        "cluster_3_unique = cluster_3.drop_duplicates(subset=['date', 'review_text'])\n",
        "cluster_3_daily = cluster_3.groupby(cluster_3['date'].dt.date)['sales'].mean().reset_index()\n",
        "daily_avg_sales_cluster3 = cluster_3_daily['sales'].mean()\n",
        "expected_increase = daily_avg_sales_cluster3 * 0.2\n",
        "\n",
        "print(f\"\\n💰 Cluster 3 고객군이 하루 기준 20% 더 유입되면, 매출은 약 {int(expected_increase):,}원 증가할 것으로 예측됩니다.\")"
      ]
    },
    {
      "cell_type": "code",
      "execution_count": null,
      "metadata": {
        "id": "MO20VtjlXBBV"
      },
      "outputs": [],
      "source": [
        "import matplotlib.pyplot as plt\n",
        "\n",
        "# 결과 값 입력 (예시 기반, 실제 값에 맞게 수정 가능)\n",
        "review_effect = 114426      # 리뷰 수 1건 증가 시\n",
        "cluster3_effect = 285216    # Cluster 3 하루 유입 20% 증가 시\n",
        "\n",
        "# 항목명 및 값\n",
        "labels = ['리뷰 수 1건 증가 시', 'Cluster 3 고객 20% 유입 증가 시']\n",
        "values = [review_effect, cluster3_effect]\n",
        "\n",
        "# 시각화\n",
        "plt.figure(figsize=(8, 5))\n",
        "bars = plt.bar(labels, values)\n",
        "plt.title('시뮬레이션 기반 매출 증가 예상 효과', fontsize=14)\n",
        "plt.ylabel('예상 매출 증가액 (원)', fontsize=12)\n",
        "\n",
        "# 값 표시\n",
        "for bar in bars:\n",
        "    height = bar.get_height()\n",
        "    plt.text(bar.get_x() + bar.get_width() / 2, height + 10000,\n",
        "             f\"{int(height):,}원\", ha='center', va='bottom', fontsize=10)\n",
        "\n",
        "plt.tight_layout()\n",
        "plt.grid(axis='y', linestyle='--', alpha=0.5)\n",
        "plt.show()\n"
      ]
    }
  ],
  "metadata": {
    "colab": {
      "private_outputs": true,
      "provenance": []
    },
    "kernelspec": {
      "display_name": "Python 3",
      "name": "python3"
    },
    "language_info": {
      "name": "python"
    }
  },
  "nbformat": 4,
  "nbformat_minor": 0
}
